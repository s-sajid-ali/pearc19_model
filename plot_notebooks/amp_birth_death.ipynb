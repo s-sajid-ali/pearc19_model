{
 "cells": [
  {
   "cell_type": "code",
   "execution_count": 1,
   "metadata": {},
   "outputs": [],
   "source": [
    "import numpy as np\n",
    "import matplotlib.pyplot as plt\n",
    "from pearc19_model import pop_dyn"
   ]
  },
  {
   "cell_type": "code",
   "execution_count": null,
   "metadata": {},
   "outputs": [],
   "source": [
    "N1 = 250\n",
    "N2 = 250\n",
    "\n",
    "dfM_vec = np.linspace(0.001, 0.050, N1)\n",
    "brM_vec = np.linspace(0.1  ,     1, N2)\n",
    "\n",
    "M_amp = np.zeros((N1,N2))\n",
    "W_amp = np.zeros((N1,N2))\n",
    "\n",
    "for i in range(N1):\n",
    "    for j in range(N2):\n",
    "        t,M,W = pop_dyn(brM = brM_vec[i],dfM = dfM_vec[j])\n",
    "        M_amp[i][j] = np.amax(M) - np.amin(M)\n",
    "        W_amp[i][j] = np.amax(W) - np.amin(W)        "
   ]
  },
  {
   "cell_type": "code",
   "execution_count": null,
   "metadata": {},
   "outputs": [],
   "source": [
    "plt.rcParams[\"figure.figsize\"] = (15,6)\n",
    "f,(ax1,ax2) = plt.subplots(1,2)\n",
    "im1 = ax1.pcolormesh(np.sqrt(M_amp),cmap='coolwarm')\n",
    "f.colorbar(im1,ax=ax1)\n",
    "im2 = ax2.pcolormesh(np.sqrt(W_amp),cmap='coolwarm')\n",
    "f.colorbar(im2,ax=ax2)\n",
    "plt.show()"
   ]
  },
  {
   "cell_type": "code",
   "execution_count": null,
   "metadata": {},
   "outputs": [],
   "source": []
  }
 ],
 "metadata": {
  "kernelspec": {
   "display_name": "Python 3",
   "language": "python",
   "name": "python3"
  },
  "language_info": {
   "codemirror_mode": {
    "name": "ipython",
    "version": 3
   },
   "file_extension": ".py",
   "mimetype": "text/x-python",
   "name": "python",
   "nbconvert_exporter": "python",
   "pygments_lexer": "ipython3",
   "version": "3.7.3"
  }
 },
 "nbformat": 4,
 "nbformat_minor": 4
}
