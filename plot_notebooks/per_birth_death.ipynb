{
 "cells": [
  {
   "cell_type": "code",
   "execution_count": 1,
   "metadata": {},
   "outputs": [],
   "source": [
    "import numpy as np\n",
    "import matplotlib.pyplot as plt\n",
    "from scipy.signal import find_peaks\n",
    "from pearc19_model import pop_dyn"
   ]
  },
  {
   "cell_type": "code",
   "execution_count": null,
   "metadata": {},
   "outputs": [
    {
     "name": "stderr",
     "output_type": "stream",
     "text": [
      "/home/sajid/miniconda3/envs/py3/lib/python3.7/site-packages/numpy/core/fromnumeric.py:3118: RuntimeWarning: Mean of empty slice.\n",
      "  out=out, **kwargs)\n",
      "/home/sajid/miniconda3/envs/py3/lib/python3.7/site-packages/numpy/core/_methods.py:85: RuntimeWarning: invalid value encountered in double_scalars\n",
      "  ret = ret.dtype.type(ret / rcount)\n"
     ]
    }
   ],
   "source": [
    "N1 = 50\n",
    "N2 = 50\n",
    "\n",
    "dfM_vec = np.linspace(0.001, 0.050, N1)\n",
    "brM_vec = np.linspace(0.1  ,     1, N2)\n",
    "\n",
    "M_per = np.zeros((N1,N2))\n",
    "W_per = np.zeros((N1,N2))\n",
    "\n",
    "for i in range(N1):\n",
    "    for j in range(N2):\n",
    "        t,M,W = pop_dyn(brW = brW_vec[i],dfW = dfW_vec[j])\n",
    "        M_peaks, _ = find_peaks(M) \n",
    "        W_peaks, _ = find_peaks(W)\n",
    "        M_per[i][j] = np.mean(M_peaks[1:] - M_peaks[:-1])\n",
    "        W_per[i][j] = np.mean(W_peaks[1:] - W_peaks[:-1])"
   ]
  },
  {
   "cell_type": "code",
   "execution_count": null,
   "metadata": {},
   "outputs": [],
   "source": [
    "plt.rcParams[\"figure.figsize\"] = (15,6)\n",
    "f,(ax1,ax2) = plt.subplots(1,2)\n",
    "im1 = ax1.pcolormesh(np.sqrt(M_per),cmap='coolwarm')\n",
    "f.colorbar(im1,ax=ax1)\n",
    "im2 = ax2.pcolormesh(np.sqrt(W_per),cmap='coolwarm')\n",
    "f.colorbar(im2,ax=ax2)\n",
    "plt.show()"
   ]
  },
  {
   "cell_type": "code",
   "execution_count": null,
   "metadata": {},
   "outputs": [],
   "source": []
  }
 ],
 "metadata": {
  "kernelspec": {
   "display_name": "Python 3",
   "language": "python",
   "name": "python3"
  },
  "language_info": {
   "codemirror_mode": {
    "name": "ipython",
    "version": 3
   },
   "file_extension": ".py",
   "mimetype": "text/x-python",
   "name": "python",
   "nbconvert_exporter": "python",
   "pygments_lexer": "ipython3",
   "version": "3.7.3"
  }
 },
 "nbformat": 4,
 "nbformat_minor": 4
}
